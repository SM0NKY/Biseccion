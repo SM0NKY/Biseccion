{
 "cells": [
  {
   "cell_type": "code",
   "execution_count": 3,
   "metadata": {},
   "outputs": [],
   "source": [
    "from typing import Optional, Any"
   ]
  },
  {
   "cell_type": "code",
   "execution_count": 6,
   "metadata": {},
   "outputs": [],
   "source": [
    "def funcion_cubica(x:int|float) -> Optional[int|float]:\n",
    "    return x^3 - 4*x^2 + x + 6"
   ]
  },
  {
   "cell_type": "code",
   "execution_count": null,
   "metadata": {},
   "outputs": [],
   "source": [
    "class Bisection(object):\n",
    "    def __init__(self):\n",
    "        self.eta:float = 0.0001\n",
    "        self.xl:int|float = 1\n",
    "        self.xu:int|float = 3\n",
    "        self.true_value:float = 2.732\n",
    "        self.xr:int = 0\n",
    "        self\n",
    "\n",
    "    def xr_value(self) -> Optional[int|float]:\n",
    "        self.xr = (self.xl - self.xu)/2 \n",
    "        return self.xr\n",
    "    \n",
    "    def check_rule(self) -> None:\n",
    "        #Aqui debo agregar el ciclo, para hacer cambio de los valores dentro del ciclo y utilizar for, para evitar errores #\n",
    "        pass\n",
    "        \n",
    "        #if self.xr * self.xl > 0 \n",
    "    "
   ]
  }
 ],
 "metadata": {
  "kernelspec": {
   "display_name": "Python 3",
   "language": "python",
   "name": "python3"
  },
  "language_info": {
   "codemirror_mode": {
    "name": "ipython",
    "version": 3
   },
   "file_extension": ".py",
   "mimetype": "text/x-python",
   "name": "python",
   "nbconvert_exporter": "python",
   "pygments_lexer": "ipython3",
   "version": "3.12.6"
  }
 },
 "nbformat": 4,
 "nbformat_minor": 2
}
